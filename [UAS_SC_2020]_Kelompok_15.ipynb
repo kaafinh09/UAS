{
  "nbformat": 4,
  "nbformat_minor": 0,
  "metadata": {
    "colab": {
      "name": "[UAS_SC_2020]_Kelompok 15.ipynb",
      "provenance": [],
      "collapsed_sections": [],
      "mount_file_id": "1vm5bzVKDVpK24Sv443BfGT6mOO_KZ2Ux",
      "authorship_tag": "ABX9TyMUeOLDHxfsz6BfLrA5geq0",
      "include_colab_link": true
    },
    "kernelspec": {
      "name": "python3",
      "display_name": "Python 3"
    }
  },
  "cells": [
    {
      "cell_type": "markdown",
      "metadata": {
        "id": "view-in-github",
        "colab_type": "text"
      },
      "source": [
        "<a href=\"https://colab.research.google.com/github/kaafinh09/UAS/blob/UAS/%5BUAS_SC_2020%5D_Kelompok_15.ipynb\" target=\"_parent\"><img src=\"https://colab.research.google.com/assets/colab-badge.svg\" alt=\"Open In Colab\"/></a>"
      ]
    },
    {
      "cell_type": "markdown",
      "metadata": {
        "id": "CjbXwWlvnAK3"
      },
      "source": [
        "LIBRARY"
      ]
    },
    {
      "cell_type": "code",
      "metadata": {
        "id": "bRqC3NG5XpGE"
      },
      "source": [
        "import pandas as pd\r\n",
        "from sklearn.model_selection import train_test_split\r\n",
        "from sklearn.linear_model import LinearRegression\r\n",
        "from matplotlib import pyplot as plt\r\n",
        "import seaborn as sns\r\n",
        "import datetime as dt\r\n",
        "import numpy as np\r\n",
        "\r\n",
        "print('Library Runned')"
      ],
      "execution_count": null,
      "outputs": []
    },
    {
      "cell_type": "markdown",
      "metadata": {
        "id": "_Y2zhS1onCeq"
      },
      "source": [
        "IMPORT DATASET"
      ]
    },
    {
      "cell_type": "code",
      "metadata": {
        "id": "MaBKuxQDXgyR"
      },
      "source": [
        "from google.colab import drive\r\n",
        "drive.mount('/content/drive')"
      ],
      "execution_count": null,
      "outputs": []
    },
    {
      "cell_type": "markdown",
      "metadata": {
        "id": "a7t65eKwnFoS"
      },
      "source": [
        "READ DATASET GLOBAL COUNTRY"
      ]
    },
    {
      "cell_type": "code",
      "metadata": {
        "id": "aGo607DyX7_8"
      },
      "source": [
        "data = pd.read_csv('/content/drive/MyDrive/sc/country_wise_latest.csv')\r\n",
        "data"
      ],
      "execution_count": null,
      "outputs": []
    },
    {
      "cell_type": "code",
      "metadata": {
        "id": "VCne2mQOaKJw"
      },
      "source": [
        "data = data[['Country/Region','Confirmed','Deaths','Recovered']]\r\n",
        "data.columns = ['Country','Confirmed','Deaths','Recovered']\r\n",
        "data"
      ],
      "execution_count": null,
      "outputs": []
    },
    {
      "cell_type": "markdown",
      "metadata": {
        "id": "7z45dHLYnJX6"
      },
      "source": [
        "MAX CONFIRMED CASE COUNTRY"
      ]
    },
    {
      "cell_type": "code",
      "metadata": {
        "id": "X8d4JGHcaqhK"
      },
      "source": [
        "max_confirmed_cases=data.sort_values(by=\"Confirmed\",ascending=False)\r\n",
        "max_confirmed_cases"
      ],
      "execution_count": null,
      "outputs": []
    },
    {
      "cell_type": "code",
      "metadata": {
        "id": "OcnCI3YKbzAa"
      },
      "source": [
        "sns.set(rc={'figure.figsize':(15,10)})\r\n",
        "sns.barplot(x=\"Country\",y=\"Confirmed\",data=max_confirmed_cases[0:5],hue=\"Country\")\r\n",
        "plt.show()"
      ],
      "execution_count": null,
      "outputs": []
    },
    {
      "cell_type": "markdown",
      "metadata": {
        "id": "9yDYawuonWLs"
      },
      "source": [
        "MAX DEATHS CASE COUNTRY"
      ]
    },
    {
      "cell_type": "code",
      "metadata": {
        "id": "YVslI9NfdoOl"
      },
      "source": [
        "max_deaths_cases=data.sort_values(by=\"Deaths\",ascending=False)\r\n",
        "max_deaths_cases"
      ],
      "execution_count": null,
      "outputs": []
    },
    {
      "cell_type": "code",
      "metadata": {
        "id": "x4IVQZ0Fd6rF"
      },
      "source": [
        "sns.set(rc={'figure.figsize':(15,10)})\r\n",
        "sns.barplot(x=\"Country\",y=\"Deaths\",data=max_deaths_cases[0:5],hue=\"Country\")\r\n",
        "plt.show()"
      ],
      "execution_count": null,
      "outputs": []
    },
    {
      "cell_type": "markdown",
      "metadata": {
        "id": "yt4PnhJPnZJI"
      },
      "source": [
        "MAX RECOVERED CASE COUNTRY"
      ]
    },
    {
      "cell_type": "code",
      "metadata": {
        "id": "MGyguw-leHVa"
      },
      "source": [
        "max_recovered_cases=data.sort_values(by=\"Recovered\",ascending=False)\r\n",
        "max_recovered_cases"
      ],
      "execution_count": null,
      "outputs": []
    },
    {
      "cell_type": "code",
      "metadata": {
        "id": "sj7_MljmeY6z"
      },
      "source": [
        "sns.set(rc={'figure.figsize':(15,10)})\r\n",
        "sns.barplot(x=\"Country\",y=\"Recovered\",data=max_recovered_cases[0:5],hue=\"Country\")\r\n",
        "plt.show()"
      ],
      "execution_count": null,
      "outputs": []
    },
    {
      "cell_type": "markdown",
      "metadata": {
        "id": "4wkHPg4xncn3"
      },
      "source": [
        "READ DATASET WITH DATE FROM 22 JANUARY 2020 - 27 JULY 2020"
      ]
    },
    {
      "cell_type": "code",
      "metadata": {
        "id": "pClLXKxFezUb"
      },
      "source": [
        "test = pd.read_csv('/content/drive/MyDrive/sc/covid_19_clean_complete.csv',parse_dates=['Date'],dayfirst=True)\r\n",
        "test = test[['Country/Region','Date','Confirmed','Deaths','Recovered']]\r\n",
        "test.columns = ['Country','Date','Confirmed','Deaths','Recovered']\r\n",
        "test\r\n",
        "\r\n"
      ],
      "execution_count": null,
      "outputs": []
    },
    {
      "cell_type": "markdown",
      "metadata": {
        "id": "VFWavuSAnjCD"
      },
      "source": [
        "DATA INDONESIA"
      ]
    },
    {
      "cell_type": "code",
      "metadata": {
        "id": "TgboV7lwgRdB"
      },
      "source": [
        "indo = test[test.Country == 'Indonesia']\r\n",
        "indo"
      ],
      "execution_count": null,
      "outputs": []
    },
    {
      "cell_type": "code",
      "metadata": {
        "id": "BGhg8p0ZgkJT"
      },
      "source": [
        "sns.set(rc={'figure.figsize':(15,10)})\r\n",
        "sns.lineplot(x=\"Date\",y=\"Confirmed\",data=indo,color='g')\r\n",
        "plt.show()"
      ],
      "execution_count": null,
      "outputs": []
    },
    {
      "cell_type": "code",
      "metadata": {
        "id": "kMTPjWy9h278"
      },
      "source": [
        "sns.set(rc={'figure.figsize':(15,10)})\r\n",
        "sns.lineplot(x=\"Date\",y=\"Deaths\",data=indo,color='r')\r\n",
        "plt.show()"
      ],
      "execution_count": null,
      "outputs": []
    },
    {
      "cell_type": "markdown",
      "metadata": {
        "id": "iV42dzwCnsaF"
      },
      "source": [
        "CHANGING DATE FORMAT TO ORDINAL (STRING)"
      ]
    },
    {
      "cell_type": "code",
      "metadata": {
        "id": "2DrhK3o2YUsE"
      },
      "source": [
        "indo['date']=indo['Date'].map(dt.datetime.toordinal)\r\n",
        "indo"
      ],
      "execution_count": null,
      "outputs": []
    },
    {
      "cell_type": "markdown",
      "metadata": {
        "id": "6PbXXvYV8n-Y"
      },
      "source": [
        "TRAIN DATA"
      ]
    },
    {
      "cell_type": "code",
      "metadata": {
        "id": "R2il8CUKKe_6"
      },
      "source": [
        "x= indo['date']\r\n",
        "y= indo['Confirmed']"
      ],
      "execution_count": null,
      "outputs": []
    },
    {
      "cell_type": "code",
      "metadata": {
        "id": "tnElNxqLK2Ug"
      },
      "source": [
        "x_train, x_test, y_train, y_test = train_test_split(x,y,test_size=0.4) "
      ],
      "execution_count": null,
      "outputs": []
    },
    {
      "cell_type": "markdown",
      "metadata": {
        "id": "0jjMIbwk8u__"
      },
      "source": [
        "PREDICT THE NUMBER OF CASES CONFIRMED"
      ]
    },
    {
      "cell_type": "code",
      "metadata": {
        "id": "AbI0L-zkK4LK"
      },
      "source": [
        "lr = LinearRegression()"
      ],
      "execution_count": null,
      "outputs": []
    },
    {
      "cell_type": "code",
      "metadata": {
        "id": "sOJg1IwFK5l0"
      },
      "source": [
        "lr.fit(np.array(x_train).reshape(-1,1),np.array(y_train).reshape(-1,1))"
      ],
      "execution_count": null,
      "outputs": []
    },
    {
      "cell_type": "code",
      "metadata": {
        "id": "r0rKF0VjK7Uo"
      },
      "source": [
        "indo.tail()"
      ],
      "execution_count": null,
      "outputs": []
    },
    {
      "cell_type": "code",
      "metadata": {
        "id": "LcngEjBXK9ba"
      },
      "source": [
        "lr.predict(np.array([[737633]]))"
      ],
      "execution_count": null,
      "outputs": []
    }
  ]
}